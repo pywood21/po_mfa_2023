{
 "cells": [
  {
   "cell_type": "markdown",
   "metadata": {},
   "source": [
    "2023/1/9<br>\n",
    "This code is for make image patch of G biloba"
   ]
  },
  {
   "cell_type": "code",
   "execution_count": 6,
   "metadata": {},
   "outputs": [],
   "source": [
    "import os\n",
    "import cv2\n",
    "import glob\n",
    "import numpy as np\n",
    "import matplotlib.pyplot as plt\n",
    "from tqdm import tqdm\n",
    "from skimage.filters import threshold_otsu, threshold_local"
   ]
  },
  {
   "cell_type": "markdown",
   "metadata": {},
   "source": [
    "set path"
   ]
  },
  {
   "cell_type": "code",
   "execution_count": 2,
   "metadata": {},
   "outputs": [],
   "source": [
    "#create directory\n",
    "current_path=os.getcwd()\n",
    "npz_path=os.path.join(current_path, \"npz_file\")\n",
    "npz_im_path=os.path.join(npz_path, \"image_registration\")\n",
    "\n",
    "save_path=os.path.join(current_path, \"im_for_model\")\n",
    "train_im_path=os.path.join(save_path, \"train_im\")\n",
    "train_gt_path=os.path.join(save_path, \"train_gt\")\n",
    "val_im_path=os.path.join(save_path, \"val_im\")\n",
    "val_gt_path=os.path.join(save_path, \"val_gt\")\n",
    "test_im_path=os.path.join(save_path, \"test_im\")\n",
    "test_ori_im_path=os.path.join(save_path, \"test_ori_im\")\n",
    "test_angle_im_path=os.path.join(save_path, \"test_angle_im\")\n",
    "\n",
    "path_list=[train_im_path, train_gt_path, val_im_path, val_gt_path, test_im_path, test_ori_im_path, test_angle_im_path]\n",
    "\n",
    "for path in path_list:\n",
    "    if os.path.exists(path)==False:\n",
    "        os.makedirs(path)"
   ]
  },
  {
   "cell_type": "markdown",
   "metadata": {},
   "source": [
    "define function"
   ]
  },
  {
   "cell_type": "code",
   "execution_count": 3,
   "metadata": {},
   "outputs": [],
   "source": [
    "def create_save_patch(im, im_step, im_size, save_path, im_name):\n",
    "    \n",
    "    height_div=im.shape[0]//im_step\n",
    "    width_div=im.shape[1]//im_step\n",
    "    \n",
    "    for i in range(height_div):\n",
    "        for j in range(width_div):\n",
    "            im_patch=im[i*im_step:i*im_step+im_size, j*im_step:j*im_step+im_size]\n",
    "\n",
    "            if (i*im_step+im_size>im.shape[0]) or (j*im_step+im_size>im.shape[1]):\n",
    "                pass\n",
    "            else:\n",
    "                if os.path.exists(save_path)==False:\n",
    "                    os.makedirs(save_path)\n",
    "                cv2.imwrite(os.path.join(save_path, str(im_name)+\"_\"+str(i).zfill(3)+\"_\"+str(j).zfill(3)+\".png\"), im_patch)\n",
    "    \n",
    "#set hyperparameter\n",
    "im_step=256\n",
    "im_size=512"
   ]
  },
  {
   "cell_type": "markdown",
   "metadata": {},
   "source": [
    "create and save image patches"
   ]
  },
  {
   "cell_type": "code",
   "execution_count": 5,
   "metadata": {},
   "outputs": [],
   "source": [
    "for curdir, _, files in os.walk(os.path.join(npz_im_path)):\n",
    "    if len(files)>0:\n",
    "        for file in files:\n",
    "            if not \"DS_Store\" in file:\n",
    "                \n",
    "                #load data\n",
    "                target_path=os.path.join(curdir, file)\n",
    "                npz=np.load(target_path)\n",
    "                MFA=npz[\"MFA\"]\n",
    "                FLM=npz[\"FLM\"]\n",
    "                angle=npz[\"angle\"]\n",
    "                \n",
    "                if \"sample04\" in file:\n",
    "                    #binarization\n",
    "                    block_size = 151\n",
    "                    local_thresh = threshold_local(FLM, block_size, offset=10)\n",
    "                    FLM_binary = FLM > local_thresh\n",
    "\n",
    "                    #omit noise\n",
    "                    FLM_binary=np.uint8(FLM_binary*255)\n",
    "                    bg=np.where(FLM==0)\n",
    "                    FLM_binary[bg]=0\n",
    "                    \n",
    "                    #connected component\n",
    "                    ret_val, labels, stats, centroids=cv2.connectedComponentsWithStats(FLM_binary)\n",
    "                    FLM_binary=np.where(labels==1, 255, 0)\n",
    "                    \n",
    "                else:\n",
    "                    #binarization\n",
    "                    thres=threshold_otsu(FLM)\n",
    "                    FLM_binary=np.uint8((FLM>thres)*255)\n",
    "\n",
    "                #set lumen as constant\n",
    "                lumen_ind=np.where(FLM_binary==0)\n",
    "                MFA[lumen_ind]=0\n",
    "                angle[lumen_ind]=-1\n",
    "\n",
    "                #normalization\n",
    "                MFA_norm=(MFA-np.min(MFA))/(np.max(MFA)-np.min(MFA))*255\n",
    "                \n",
    "                im_name=os.path.splitext(file)[0][:-2]\n",
    "                create_save_patch(MFA_norm, im_step, im_size, os.path.join(test_im_path, im_name), im_name)\n",
    "                create_save_patch(MFA, im_step, im_size, os.path.join(test_ori_im_path, im_name), im_name)\n",
    "                create_save_patch(angle, im_step, im_size, os.path.join(test_angle_im_path, im_name), im_name)"
   ]
  },
  {
   "cell_type": "code",
   "execution_count": null,
   "metadata": {},
   "outputs": [],
   "source": []
  }
 ],
 "metadata": {
  "kernelspec": {
   "display_name": "YKDL",
   "language": "python",
   "name": "ykdl"
  },
  "language_info": {
   "codemirror_mode": {
    "name": "ipython",
    "version": 3
   },
   "file_extension": ".py",
   "mimetype": "text/x-python",
   "name": "python",
   "nbconvert_exporter": "python",
   "pygments_lexer": "ipython3",
   "version": "3.6.8"
  }
 },
 "nbformat": 4,
 "nbformat_minor": 2
}
