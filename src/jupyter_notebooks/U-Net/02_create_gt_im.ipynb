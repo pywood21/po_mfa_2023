{
 "cells": [
  {
   "cell_type": "markdown",
   "metadata": {},
   "source": [
    "2023/03/03<br>\n",
    "This code is for saving binarized ground truth image."
   ]
  },
  {
   "cell_type": "code",
   "execution_count": 1,
   "metadata": {},
   "outputs": [],
   "source": [
    "import os\n",
    "import cv2\n",
    "import glob\n",
    "import numpy as np\n",
    "import matplotlib.pyplot as plt\n",
    "from tqdm import tqdm"
   ]
  },
  {
   "cell_type": "code",
   "execution_count": 2,
   "metadata": {},
   "outputs": [],
   "source": [
    "current_path=os.getcwd()\n",
    "gt_path=os.path.join(current_path, \"gt\")\n",
    "train_gt_path=os.path.join(gt_path, \"train\")\n",
    "val_gt_path=os.path.join(gt_path, \"val\")\n",
    "\n",
    "train_model_gt_path=os.path.join(current_path, \"im_for_model\", \"train_gt\")\n",
    "val_model_gt_path=os.path.join(current_path, \"im_for_model\", \"val_gt\")"
   ]
  },
  {
   "cell_type": "code",
   "execution_count": 3,
   "metadata": {},
   "outputs": [],
   "source": [
    "for curdir, _, files in os.walk(train_gt_path):\n",
    "    if len(files)>0:\n",
    "        for file in files:\n",
    "            target_path=os.path.join(curdir, file)\n",
    "            im=cv2.imread(target_path, -1)\n",
    "            im=cv2.cvtColor(im, cv2.COLOR_BGR2GRAY)\n",
    "            im=np.uint8((im>0)*255)\n",
    "            cv2.imwrite(os.path.join(train_model_gt_path, os.path.splitext(file)[0]+\".png\"), im)"
   ]
  },
  {
   "cell_type": "code",
   "execution_count": 4,
   "metadata": {},
   "outputs": [],
   "source": [
    "for curdir, _, files in os.walk(val_gt_path):\n",
    "    if len(files)>0:\n",
    "        for file in files:\n",
    "            target_path=os.path.join(curdir, file)\n",
    "            im=cv2.imread(target_path, -1)\n",
    "            im=cv2.cvtColor(im, cv2.COLOR_BGR2GRAY)\n",
    "            im=np.uint8((im>0)*255)\n",
    "            cv2.imwrite(os.path.join(val_model_gt_path, os.path.splitext(file)[0]+\".png\"), im)"
   ]
  },
  {
   "cell_type": "code",
   "execution_count": null,
   "metadata": {},
   "outputs": [],
   "source": []
  },
  {
   "cell_type": "code",
   "execution_count": null,
   "metadata": {},
   "outputs": [],
   "source": []
  }
 ],
 "metadata": {
  "kernelspec": {
   "display_name": "YKDL",
   "language": "python",
   "name": "ykdl"
  },
  "language_info": {
   "codemirror_mode": {
    "name": "ipython",
    "version": 3
   },
   "file_extension": ".py",
   "mimetype": "text/x-python",
   "name": "python",
   "nbconvert_exporter": "python",
   "pygments_lexer": "ipython3",
   "version": "3.6.8"
  }
 },
 "nbformat": 4,
 "nbformat_minor": 2
}
