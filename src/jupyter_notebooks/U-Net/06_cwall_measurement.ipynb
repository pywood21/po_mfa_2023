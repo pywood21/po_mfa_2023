{
 "cells": [
  {
   "cell_type": "markdown",
   "metadata": {},
   "source": [
    "2023/3/7<br>\n",
    "Code is for measurement cell wall thickness"
   ]
  },
  {
   "cell_type": "code",
   "execution_count": 1,
   "metadata": {},
   "outputs": [],
   "source": [
    "import os\n",
    "import numpy as np\n",
    "import matplotlib.pyplot as plt\n",
    "import cv2\n",
    "import glob\n",
    "import pandas as pd\n",
    "from skimage import measure\n",
    "from tqdm import tqdm\n",
    "from matplotlib import cm\n",
    "from skimage.draw import line\n",
    "from skimage.filters import threshold_otsu\n",
    "import multiprocessing as mp\n",
    "from multiprocessing import Pool\n",
    "from common.cw_measure import *"
   ]
  },
  {
   "cell_type": "code",
   "execution_count": 2,
   "metadata": {},
   "outputs": [],
   "source": [
    "resolution=0.160256 #um/pixel\n",
    "core_num=8"
   ]
  },
  {
   "cell_type": "code",
   "execution_count": 3,
   "metadata": {},
   "outputs": [],
   "source": [
    "current_path=os.getcwd()\n",
    "npz_path=os.path.join(current_path, \"npz_file\")\n",
    "target_npz_path=os.path.join(npz_path, \"Dataframe_MFA_anatomy.npz\")\n",
    "npz_segmentation_path=os.path.join(npz_path, \"segmentation\")\n",
    "npz_pred_path=os.path.join(npz_path, \"pred_im_concatenation\")\n",
    "\n",
    "npz_segmentation_files=glob.glob(os.path.join(npz_segmentation_path, \"*.npz\"))\n",
    "npz_pred_files=glob.glob(os.path.join(npz_pred_path, \"*.npz\"))\n",
    "\n",
    "npz_df=np.load(target_npz_path, allow_pickle=True)\n",
    "df_list=npz_df[\"df_list\"]"
   ]
  },
  {
   "cell_type": "code",
   "execution_count": 4,
   "metadata": {},
   "outputs": [
    {
     "name": "stderr",
     "output_type": "stream",
     "text": [
      "100%|██████████| 267/267 [02:38<00:00,  1.54it/s]\n",
      "100%|██████████| 268/268 [02:38<00:00,  1.52it/s]\n",
      "100%|██████████| 267/267 [02:39<00:00,  1.87it/s]\n",
      "100%|██████████| 268/268 [02:40<00:00,  1.99it/s]\n",
      "100%|██████████| 268/268 [02:40<00:00,  2.05it/s]\n",
      "100%|██████████| 267/267 [02:40<00:00,  2.15it/s]\n",
      "100%|██████████| 268/268 [02:39<00:00,  1.97it/s]\n",
      "100%|██████████| 268/268 [02:34<00:00,  2.52it/s]\n",
      "100%|██████████| 8/8 [00:00<00:00, 13200.01it/s]\n",
      "100%|██████████| 350/350 [03:23<00:00,  1.74it/s]\n",
      "100%|██████████| 350/350 [03:23<00:00,  1.74it/s]\n",
      "100%|██████████| 351/351 [03:23<00:00,  2.07it/s]\n",
      "100%|██████████| 350/350 [03:25<00:00,  2.07it/s]\n",
      "100%|██████████| 350/350 [03:24<00:00,  2.12it/s]\n",
      "100%|██████████| 351/351 [03:24<00:00,  2.34it/s]\n",
      "100%|██████████| 350/350 [03:23<00:00,  2.40it/s]\n",
      "100%|██████████| 351/351 [03:18<00:00,  2.44it/s]\n",
      "100%|██████████| 8/8 [00:00<00:00, 12436.78it/s]\n",
      "100%|██████████| 360/360 [04:08<00:00,  1.50it/s]\n",
      "100%|██████████| 360/360 [04:10<00:00,  1.38it/s]\n",
      "100%|██████████| 360/360 [04:09<00:00,  1.74it/s]\n",
      "100%|██████████| 361/361 [04:07<00:00,  1.85it/s]\n",
      "100%|██████████| 360/360 [04:07<00:00,  1.89it/s]\n",
      "100%|██████████| 360/360 [04:07<00:00,  1.91it/s]\n",
      "100%|██████████| 360/360 [04:09<00:00,  2.00it/s]\n",
      "100%|██████████| 361/361 [04:04<00:00,  2.21it/s]\n",
      "100%|██████████| 8/8 [00:00<00:00, 17242.77it/s]\n",
      "100%|██████████| 547/547 [05:18<00:00,  1.67it/s]\n",
      "100%|██████████| 547/547 [05:16<00:00,  1.79it/s]\n",
      "100%|██████████| 547/547 [05:14<00:00,  1.92it/s]\n",
      "100%|██████████| 548/548 [05:14<00:00,  2.12it/s]\n",
      "100%|██████████| 547/547 [05:15<00:00,  2.29it/s]\n",
      "100%|██████████| 547/547 [05:12<00:00,  2.37it/s]\n",
      "100%|██████████| 547/547 [05:11<00:00,  2.35it/s]\n",
      "100%|██████████| 548/548 [05:08<00:00,  2.64it/s]\n",
      "100%|██████████| 8/8 [00:00<00:00, 15782.89it/s]\n",
      " 91%|█████████ | 328/360 [03:16<00:19,  1.65it/s]\n",
      "100%|██████████| 360/360 [03:33<00:00,  1.77it/s]\n",
      "100%|██████████| 360/360 [03:34<00:00,  1.97it/s]\n",
      "100%|██████████| 360/360 [03:32<00:00,  2.13it/s]\n",
      "100%|██████████| 359/359 [03:33<00:00,  2.25it/s]\n",
      "100%|██████████| 360/360 [03:31<00:00,  2.34it/s]\n",
      "100%|██████████| 360/360 [03:26<00:00,  2.43it/s]\n",
      "100%|██████████| 360/360 [03:32<00:00,  2.21it/s]\n",
      "100%|██████████| 8/8 [00:00<00:00, 16955.25it/s]\n",
      "100%|██████████| 350/350 [03:36<00:00,  1.56it/s]\n",
      "100%|██████████| 350/350 [03:36<00:00,  1.64it/s]\n",
      "100%|██████████| 350/350 [03:35<00:00,  1.75it/s]\n",
      " 96%|█████████▌| 335/350 [03:30<00:07,  1.90it/s]\n",
      "100%|██████████| 350/350 [03:37<00:00,  2.07it/s]\n",
      "100%|██████████| 350/350 [03:34<00:00,  1.95it/s]\n",
      "100%|██████████| 350/350 [03:34<00:00,  2.02it/s]\n",
      "100%|██████████| 351/351 [03:32<00:00,  2.48it/s]\n",
      "100%|██████████| 8/8 [00:00<00:00, 17430.87it/s]\n",
      "100%|██████████| 241/241 [02:23<00:00,  1.62it/s]\n",
      "100%|██████████| 242/242 [02:24<00:00,  1.82it/s]\n",
      "100%|██████████| 242/242 [02:25<00:00,  2.07it/s]\n",
      "100%|██████████| 242/242 [02:24<00:00,  2.13it/s]\n",
      "100%|██████████| 242/242 [02:25<00:00,  2.16it/s]\n",
      "100%|██████████| 242/242 [02:24<00:00,  2.27it/s]\n",
      "100%|██████████| 242/242 [02:24<00:00,  2.30it/s]\n",
      "100%|██████████| 242/242 [02:23<00:00,  2.58it/s]\n",
      "100%|██████████| 8/8 [00:00<00:00, 14004.35it/s]\n",
      "100%|██████████| 226/226 [02:10<00:00,  1.51it/s]\n",
      "100%|██████████| 226/226 [02:09<00:00,  1.77it/s]\n",
      "100%|██████████| 226/226 [02:10<00:00,  2.15it/s]\n",
      "100%|██████████| 226/226 [02:10<00:00,  2.12it/s]\n",
      "100%|██████████| 226/226 [02:12<00:00,  2.20it/s]\n",
      "100%|██████████| 226/226 [02:11<00:00,  2.22it/s]\n",
      "100%|██████████| 226/226 [02:10<00:00,  1.96it/s]\n",
      "100%|██████████| 226/226 [02:06<00:00,  2.47it/s]\n",
      "100%|██████████| 8/8 [00:00<00:00, 14538.32it/s]\n",
      "100%|██████████| 177/177 [00:45<00:00,  3.50it/s]\n",
      "100%|██████████| 177/177 [00:45<00:00,  3.99it/s]\n",
      "100%|██████████| 177/177 [00:45<00:00,  4.60it/s]\n",
      "100%|██████████| 177/177 [00:44<00:00,  4.67it/s]\n",
      "100%|██████████| 177/177 [00:45<00:00,  5.18it/s]\n",
      "100%|██████████| 177/177 [00:45<00:00,  5.26it/s]\n",
      "100%|██████████| 177/177 [00:43<00:00,  5.08it/s]\n",
      "100%|██████████| 178/178 [00:38<00:00,  7.10it/s]\n",
      "100%|██████████| 8/8 [00:00<00:00, 25477.93it/s]\n",
      "100%|██████████| 438/438 [04:34<00:00,  1.57it/s]\n",
      "100%|██████████| 439/439 [04:34<00:00,  1.63it/s]\n",
      "100%|██████████| 439/439 [04:34<00:00,  1.88it/s]\n",
      "100%|██████████| 439/439 [04:32<00:00,  1.85it/s]\n",
      "100%|██████████| 438/438 [04:32<00:00,  2.01it/s]\n",
      " 97%|█████████▋| 427/439 [04:24<00:05,  2.27it/s]\n",
      "100%|██████████| 439/439 [04:33<00:00,  2.12it/s]\n",
      "100%|██████████| 439/439 [04:29<00:00,  2.41it/s]\n",
      "100%|██████████| 8/8 [00:00<00:00, 9502.81it/s]\n",
      "100%|██████████| 440/440 [05:22<00:00,  1.34it/s]\n",
      "100%|██████████| 441/441 [05:23<00:00,  1.46it/s]\n",
      "100%|██████████| 441/441 [05:25<00:00,  1.73it/s]\n",
      "100%|██████████| 441/441 [05:26<00:00,  1.66it/s]\n",
      "100%|██████████| 441/441 [05:23<00:00,  1.80it/s]\n",
      "100%|██████████| 441/441 [05:23<00:00,  1.76it/s]\n",
      "100%|██████████| 441/441 [05:21<00:00,  1.72it/s]\n",
      "100%|██████████| 441/441 [05:17<00:00,  2.08it/s]\n",
      "100%|██████████| 8/8 [00:00<00:00, 19565.27it/s]\n",
      "100%|██████████| 568/568 [07:42<00:00,  1.32it/s]\n",
      "100%|██████████| 569/569 [07:45<00:00,  1.36it/s]\n",
      "100%|██████████| 568/568 [07:43<00:00,  1.47it/s]\n",
      "100%|██████████| 569/569 [07:42<00:00,  1.54it/s]\n",
      "100%|██████████| 568/568 [07:41<00:00,  1.62it/s]\n",
      "100%|██████████| 569/569 [07:42<00:00,  1.65it/s]\n",
      "100%|██████████| 568/568 [07:37<00:00,  1.68it/s]\n",
      "100%|██████████| 569/569 [07:33<00:00,  1.90it/s]\n",
      "100%|██████████| 8/8 [00:00<00:00, 11530.73it/s]\n",
      "100%|██████████| 225/225 [02:28<00:00,  1.50it/s]\n",
      "100%|██████████| 225/225 [02:31<00:00,  1.59it/s]\n",
      "100%|██████████| 225/225 [02:30<00:00,  1.75it/s]\n",
      "100%|██████████| 225/225 [02:27<00:00,  1.81it/s]\n",
      "100%|██████████| 225/225 [02:29<00:00,  1.94it/s]\n",
      "100%|██████████| 225/225 [02:29<00:00,  1.92it/s]\n",
      "100%|██████████| 225/225 [02:27<00:00,  1.96it/s]\n",
      "100%|██████████| 225/225 [02:24<00:00,  2.23it/s]\n",
      "100%|██████████| 8/8 [00:00<00:00, 21331.49it/s]\n",
      "100%|██████████| 461/461 [05:51<00:00,  1.31it/s]\n",
      "100%|██████████| 461/461 [05:50<00:00,  1.36it/s]\n",
      "100%|██████████| 461/461 [05:49<00:00,  1.51it/s]\n",
      "100%|██████████| 461/461 [05:50<00:00,  1.69it/s]\n",
      "100%|██████████| 461/461 [05:51<00:00,  1.67it/s]\n",
      "100%|██████████| 461/461 [05:51<00:00,  1.73it/s]\n",
      "100%|██████████| 461/461 [05:49<00:00,  1.77it/s]\n",
      "100%|██████████| 462/462 [05:45<00:00,  2.05it/s]\n",
      "100%|██████████| 8/8 [00:00<00:00, 11810.78it/s]\n",
      "100%|██████████| 362/362 [03:22<00:00,  1.81it/s]\n",
      "100%|██████████| 363/363 [03:22<00:00,  1.87it/s]\n",
      "100%|██████████| 363/363 [03:21<00:00,  2.27it/s]\n",
      "100%|██████████| 362/362 [03:26<00:00,  1.89it/s]\n",
      "100%|██████████| 362/362 [03:22<00:00,  2.28it/s]\n",
      "100%|██████████| 363/363 [03:22<00:00,  2.39it/s]\n",
      "100%|██████████| 362/362 [03:20<00:00,  2.46it/s]\n",
      "100%|██████████| 363/363 [03:17<00:00,  2.73it/s]\n",
      "100%|██████████| 8/8 [00:00<00:00, 21916.68it/s]\n",
      "100%|██████████| 419/419 [04:36<00:00,  1.44it/s]\n",
      "100%|██████████| 420/420 [04:37<00:00,  1.56it/s]\n",
      "100%|██████████| 419/419 [04:38<00:00,  1.80it/s]\n",
      "100%|██████████| 420/420 [04:36<00:00,  1.92it/s]\n",
      "100%|██████████| 419/419 [04:35<00:00,  1.92it/s]\n",
      "100%|██████████| 420/420 [04:37<00:00,  2.04it/s]\n",
      "100%|██████████| 419/419 [04:33<00:00,  2.04it/s]\n",
      "100%|██████████| 420/420 [04:34<00:00,  2.29it/s]\n",
      "100%|██████████| 8/8 [00:00<00:00, 8248.39it/s]\n",
      "100%|██████████| 448/448 [02:44<00:00,  2.47it/s]\n",
      "100%|██████████| 449/449 [02:47<00:00,  2.97it/s]\n",
      "100%|██████████| 449/449 [02:46<00:00,  3.31it/s]\n",
      "100%|██████████| 449/449 [02:45<00:00,  3.58it/s]\n",
      "100%|██████████| 449/449 [02:46<00:00,  3.60it/s]\n",
      "100%|██████████| 449/449 [02:46<00:00,  3.71it/s]\n",
      "100%|██████████| 449/449 [02:49<00:00,  3.59it/s]\n",
      "100%|██████████| 449/449 [02:45<00:00,  4.63it/s]\n",
      "100%|██████████| 8/8 [00:00<00:00, 20841.26it/s]\n",
      "100%|██████████| 373/373 [01:57<00:00,  3.38it/s]\n",
      "100%|██████████| 373/373 [01:56<00:00,  3.37it/s]\n",
      "100%|██████████| 373/373 [01:58<00:00,  3.81it/s]\n",
      "100%|██████████| 373/373 [01:58<00:00,  3.94it/s]\n",
      "100%|██████████| 373/373 [01:59<00:00,  4.27it/s]\n",
      "100%|██████████| 373/373 [01:57<00:00,  4.36it/s]\n",
      "100%|██████████| 373/373 [01:57<00:00,  4.61it/s]\n",
      "100%|██████████| 374/374 [01:54<00:00,  5.24it/s]\n",
      "100%|██████████| 8/8 [00:00<00:00, 11173.64it/s]\n",
      "100%|██████████| 874/874 [13:43<00:00,  1.04it/s]\n",
      "100%|██████████| 875/875 [13:43<00:00,  1.13it/s]\n",
      "100%|██████████| 874/874 [13:43<00:00,  1.23it/s]\n",
      "100%|██████████| 875/875 [13:47<00:00,  1.40it/s]\n",
      "100%|██████████| 875/875 [13:46<00:00,  1.44it/s]\n",
      "100%|██████████| 874/874 [13:41<00:00,  1.42it/s]\n",
      "100%|██████████| 875/875 [13:41<00:00,  1.47it/s]\n",
      "100%|██████████| 875/875 [13:36<00:00,  1.63it/s]\n",
      "100%|██████████| 8/8 [00:00<00:00, 16288.56it/s]\n",
      "100%|██████████| 308/308 [03:28<00:00,  1.50it/s]\n",
      "100%|██████████| 308/308 [03:28<00:00,  1.51it/s]\n",
      "100%|██████████| 308/308 [03:28<00:00,  1.66it/s]\n",
      "100%|██████████| 308/308 [03:28<00:00,  1.78it/s]\n",
      "100%|██████████| 308/308 [03:28<00:00,  1.93it/s]\n",
      "100%|██████████| 308/308 [03:27<00:00,  1.91it/s]\n",
      "100%|██████████| 308/308 [03:26<00:00,  2.04it/s]\n",
      "100%|██████████| 309/309 [03:21<00:00,  2.27it/s]\n",
      "100%|██████████| 8/8 [00:00<00:00, 12738.96it/s]\n",
      "100%|██████████| 551/551 [05:31<00:00,  1.59it/s]\n",
      "100%|██████████| 552/552 [05:29<00:00,  1.64it/s]\n",
      "100%|██████████| 552/552 [05:28<00:00,  1.99it/s]\n",
      "100%|██████████| 552/552 [05:30<00:00,  1.98it/s]\n",
      "100%|██████████| 552/552 [05:30<00:00,  2.15it/s]\n",
      "100%|██████████| 552/552 [05:28<00:00,  2.20it/s]\n",
      "100%|██████████| 552/552 [05:27<00:00,  2.19it/s]\n",
      "100%|██████████| 552/552 [05:23<00:00,  2.52it/s]\n",
      "100%|██████████| 8/8 [00:00<00:00, 13695.69it/s]\n",
      "100%|██████████| 429/429 [04:43<00:00,  1.58it/s]\n",
      "100%|██████████| 430/430 [04:43<00:00,  1.69it/s]\n",
      "100%|██████████| 429/429 [04:44<00:00,  1.87it/s]\n",
      "100%|██████████| 430/430 [04:45<00:00,  1.89it/s]\n",
      "100%|██████████| 429/429 [04:41<00:00,  1.86it/s]\n",
      "100%|██████████| 430/430 [04:43<00:00,  2.02it/s]\n",
      "100%|██████████| 429/429 [04:40<00:00,  1.97it/s]\n",
      "100%|██████████| 430/430 [04:37<00:00,  2.31it/s]\n",
      "100%|██████████| 8/8 [00:00<00:00, 14729.78it/s]\n",
      "100%|██████████| 282/282 [01:23<00:00,  2.97it/s]\n",
      "100%|██████████| 282/282 [01:21<00:00,  3.02it/s]\n",
      "100%|██████████| 283/283 [01:23<00:00,  3.86it/s]\n",
      "100%|██████████| 282/282 [01:24<00:00,  4.11it/s]\n",
      "100%|██████████| 282/282 [01:23<00:00,  4.59it/s]\n",
      "100%|██████████| 283/283 [01:23<00:00,  4.48it/s]\n",
      "100%|██████████| 282/282 [01:20<00:00,  4.67it/s]\n",
      "100%|██████████| 283/283 [01:20<00:00,  6.15it/s]\n",
      "100%|██████████| 8/8 [00:00<00:00, 23596.65it/s]\n",
      "100%|██████████| 366/366 [01:40<00:00,  3.38it/s]\n",
      "100%|██████████| 367/367 [01:39<00:00,  3.21it/s]\n",
      "100%|██████████| 367/367 [01:41<00:00,  4.81it/s]\n",
      "100%|██████████| 367/367 [01:41<00:00,  4.69it/s]\n",
      "100%|██████████| 366/366 [01:41<00:00,  4.82it/s]\n",
      "100%|██████████| 367/367 [01:40<00:00,  4.99it/s]\n",
      "100%|██████████| 367/367 [01:39<00:00,  4.68it/s]\n",
      "100%|██████████| 367/367 [01:34<00:00,  6.50it/s]\n",
      "100%|██████████| 8/8 [00:00<00:00, 15356.72it/s]\n",
      "100%|██████████| 408/408 [02:37<00:00,  2.62it/s]\n",
      "100%|██████████| 408/408 [02:34<00:00,  2.60it/s]\n",
      "100%|██████████| 408/408 [02:39<00:00,  3.11it/s]\n",
      " 80%|████████  | 328/408 [02:14<00:25,  3.08it/s]\n",
      "100%|██████████| 408/408 [02:39<00:00,  3.76it/s]\n",
      "100%|██████████| 408/408 [02:41<00:00,  3.44it/s]\n",
      "100%|██████████| 408/408 [02:41<00:00,  2.95it/s]\n",
      "100%|██████████| 408/408 [02:36<00:00,  4.41it/s]\n",
      "100%|██████████| 8/8 [00:00<00:00, 19000.24it/s]\n",
      "100%|██████████| 494/494 [05:51<00:00,  1.42it/s]\n",
      "100%|██████████| 494/494 [05:53<00:00,  1.56it/s]\n",
      "100%|██████████| 494/494 [05:54<00:00,  1.73it/s]\n",
      "100%|██████████| 495/495 [05:53<00:00,  1.81it/s]\n",
      "100%|██████████| 494/494 [05:54<00:00,  1.90it/s]\n",
      "100%|██████████| 494/494 [05:52<00:00,  1.92it/s]\n",
      "100%|██████████| 494/494 [05:53<00:00,  2.03it/s]\n",
      "100%|██████████| 495/495 [05:47<00:00,  2.17it/s]\n",
      "100%|██████████| 8/8 [00:00<00:00, 18176.83it/s]\n",
      "100%|██████████| 260/260 [01:15<00:00,  3.23it/s]\n",
      "100%|██████████| 260/260 [01:17<00:00,  3.66it/s]\n",
      "100%|██████████| 261/261 [01:16<00:00,  3.97it/s]\n",
      "100%|██████████| 260/260 [01:17<00:00,  4.74it/s]\n",
      "100%|██████████| 260/260 [01:18<00:00,  4.31it/s]\n",
      "100%|██████████| 261/261 [01:17<00:00,  4.27it/s]\n",
      "100%|██████████| 260/260 [01:15<00:00,  4.44it/s]\n",
      "100%|██████████| 261/261 [01:09<00:00,  6.04it/s]\n",
      "100%|██████████| 8/8 [00:00<00:00, 15563.28it/s]\n",
      "100%|██████████| 333/333 [03:02<00:00,  1.78it/s]\n",
      "100%|██████████| 333/333 [03:00<00:00,  1.81it/s]\n",
      "100%|██████████| 333/333 [03:02<00:00,  2.11it/s]\n",
      "100%|██████████| 333/333 [03:03<00:00,  2.19it/s]\n",
      "100%|██████████| 333/333 [03:03<00:00,  2.30it/s]\n",
      "100%|██████████| 333/333 [03:03<00:00,  2.14it/s]\n",
      "100%|██████████| 333/333 [03:02<00:00,  2.38it/s]\n",
      "100%|██████████| 334/334 [02:59<00:00,  2.76it/s]\n",
      "100%|██████████| 8/8 [00:00<00:00, 13071.46it/s]\n",
      "100%|██████████| 297/297 [01:46<00:00,  2.84it/s]\n",
      "100%|██████████| 298/298 [01:48<00:00,  2.95it/s]\n",
      "100%|██████████| 298/298 [01:48<00:00,  2.94it/s]\n",
      "100%|██████████| 298/298 [01:48<00:00,  3.59it/s]\n",
      "100%|██████████| 297/297 [01:47<00:00,  3.71it/s]\n",
      "100%|██████████| 298/298 [01:47<00:00,  3.74it/s]\n",
      "100%|██████████| 298/298 [01:49<00:00,  3.70it/s]\n",
      "100%|██████████| 298/298 [01:43<00:00,  4.72it/s]\n",
      "100%|██████████| 8/8 [00:00<00:00, 12291.00it/s]\n",
      "100%|██████████| 393/393 [03:33<00:00,  1.88it/s]\n",
      "100%|██████████| 394/394 [03:32<00:00,  1.95it/s]\n",
      "100%|██████████| 394/394 [03:34<00:00,  2.24it/s]\n",
      "100%|██████████| 394/394 [03:36<00:00,  2.31it/s]\n",
      "100%|██████████| 394/394 [03:34<00:00,  2.37it/s]\n",
      "100%|██████████| 394/394 [03:35<00:00,  2.24it/s]\n",
      "100%|██████████| 394/394 [03:30<00:00,  2.63it/s]\n",
      "100%|██████████| 394/394 [03:36<00:00,  2.56it/s]\n",
      "100%|██████████| 8/8 [00:00<00:00, 17394.73it/s]\n",
      "100%|██████████| 346/346 [03:34<00:00,  1.51it/s]\n",
      "100%|██████████| 346/346 [03:33<00:00,  1.56it/s]\n",
      "100%|██████████| 346/346 [03:32<00:00,  1.77it/s]\n",
      "100%|██████████| 346/346 [03:32<00:00,  2.03it/s]\n",
      "100%|██████████| 346/346 [03:32<00:00,  2.05it/s]\n",
      "100%|██████████| 346/346 [03:33<00:00,  2.07it/s]\n",
      "100%|██████████| 346/346 [03:31<00:00,  2.23it/s]\n",
      "100%|██████████| 347/347 [03:27<00:00,  2.47it/s]\n",
      "100%|██████████| 8/8 [00:00<00:00, 17857.60it/s]\n",
      "100%|██████████| 405/405 [02:33<00:00,  2.56it/s]\n",
      "100%|██████████| 405/405 [02:31<00:00,  2.55it/s]\n",
      "100%|██████████| 406/406 [02:30<00:00,  3.10it/s]\n",
      "100%|██████████| 405/405 [02:33<00:00,  3.37it/s]\n",
      "100%|██████████| 405/405 [02:32<00:00,  3.71it/s]\n",
      "100%|██████████| 406/406 [02:36<00:00,  3.55it/s]\n",
      "100%|██████████| 405/405 [02:37<00:00,  3.54it/s]\n",
      "100%|██████████| 406/406 [02:30<00:00,  4.44it/s]\n",
      "100%|██████████| 8/8 [00:00<00:00, 20360.70it/s]\n"
     ]
    }
   ],
   "source": [
    "df_cwt_list=[]\n",
    "for i, (npz_segmentation, npz_pred) in enumerate(zip(npz_segmentation_files, npz_pred_files)):\n",
    "    #load npz\n",
    "    npz_segmentation=np.load(npz_segmentation)\n",
    "    nuclei=npz_segmentation[\"nuclei\"]\n",
    "    #\n",
    "    npz_pred=np.load(npz_pred)\n",
    "    MFA=npz_pred[\"MFA\"]\n",
    "    #\n",
    "    df=df_list[i]\n",
    "    \n",
    "    #define cwall_mat\n",
    "    cwall_mat=np.where(MFA>0, 255, 0)\n",
    "    \n",
    "    #call class\n",
    "    length_list=np.repeat(int(6/resolution) , len(df)+1)\n",
    "    cellwall_auto_measure_mp=cellwall_measure_mp(core_num, np.uint(cwall_mat), nuclei, resolution, length_list, cwall_thres=90)\n",
    "    \n",
    "    #calculate CWT\n",
    "    with Pool(core_num) as p:\n",
    "        #calculation MFA using cores \n",
    "        callback_cw = p.map(cellwall_auto_measure_mp.cwall_measure_mp, range(core_num))\n",
    "        \n",
    "    #summarize results\n",
    "    result_list=[]\n",
    "    for i in tqdm(range(len(callback_cw))):\n",
    "        result_list.extend(callback_cw[i])\n",
    "\n",
    "    cw_list=[result_list[i][0] for i in range(len(result_list))]\n",
    "    label_list=[result_list[i][1] for i in range(len(result_list))]\n",
    "    \n",
    "    cwall_median=[np.median(cw_list[i]) for i in range(len(cw_list))]\n",
    "    cwall_mean=[np.mean(cw_list[i]) for i in range(len(cw_list))]\n",
    "    cwall_std=[np.std(cw_list[i]) for i in range(len(cw_list))]\n",
    "    \n",
    "    df[\"cwall_mean\"]=cwall_mean[1:]\n",
    "    df[\"cwall_median\"]=cwall_median[1:]\n",
    "    df[\"cwall_std\"]=cwall_std[1:]\n",
    "    \n",
    "    df_cwt_list.append(df)"
   ]
  },
  {
   "cell_type": "code",
   "execution_count": 6,
   "metadata": {},
   "outputs": [
    {
     "name": "stderr",
     "output_type": "stream",
     "text": [
      "/Users/AR3/anaconda3/envs/YKDL/lib/python3.6/site-packages/numpy/core/_asarray.py:136: VisibleDeprecationWarning: Creating an ndarray from ragged nested sequences (which is a list-or-tuple of lists-or-tuples-or ndarrays with different lengths or shapes) is deprecated. If you meant to do this, you must specify 'dtype=object' when creating the ndarray\n",
      "  return array(a, dtype, copy=False, order=order, subok=True)\n"
     ]
    }
   ],
   "source": [
    "np.savez_compressed(os.path.join(npz_path, \"Dataframe_CWT_MFA_anatomy.npz\"), \n",
    "                   df_list=df_cwt_list)"
   ]
  },
  {
   "cell_type": "code",
   "execution_count": 15,
   "metadata": {},
   "outputs": [],
   "source": [
    "npz_pred=np.load(npz_pred_files[0])\n",
    "MFA=npz_pred[\"MFA\"]"
   ]
  },
  {
   "cell_type": "code",
   "execution_count": 31,
   "metadata": {},
   "outputs": [],
   "source": [
    "npz_df=np.load(target_npz_path, allow_pickle=True)\n",
    "df_list=npz_df[\"df_list\"]\n",
    "df=df_list[0]"
   ]
  },
  {
   "cell_type": "code",
   "execution_count": 17,
   "metadata": {},
   "outputs": [
    {
     "data": {
      "text/plain": [
       "<matplotlib.image.AxesImage at 0x17be51748>"
      ]
     },
     "execution_count": 17,
     "metadata": {},
     "output_type": "execute_result"
    },
    {
     "data": {
      "image/png": "[encoded data removed]",
      "text/plain": [
       "<Figure size 432x288 with 1 Axes>"
      ]
     },
     "metadata": {
      "needs_background": "light"
     },
     "output_type": "display_data"
    }
   ],
   "source": [
    "cwall_mat=np.where(MFA>0, 255, 0)\n",
    "\n",
    "plt.imshow(cwall_mat)"
   ]
  },
  {
   "cell_type": "code",
   "execution_count": 32,
   "metadata": {},
   "outputs": [
    {
     "name": "stderr",
     "output_type": "stream",
     "text": [
      "100%|██████████| 267/267 [02:41<00:00,  1.46it/s]\n",
      "100%|██████████| 268/268 [02:42<00:00,  1.53it/s]\n",
      "100%|██████████| 267/267 [02:43<00:00,  1.88it/s]\n",
      "100%|██████████| 268/268 [02:43<00:00,  2.00it/s]\n",
      "100%|██████████| 268/268 [02:42<00:00,  2.04it/s]\n",
      "100%|██████████| 267/267 [02:42<00:00,  2.13it/s]\n",
      "100%|██████████| 268/268 [02:39<00:00,  1.98it/s]\n",
      "100%|██████████| 268/268 [02:35<00:00,  2.54it/s]\n"
     ]
    }
   ],
   "source": [
    "#call class\n",
    "length_list=np.repeat(int(6/resolution) , len(df)+1)\n",
    "cellwall_auto_measure_mp=cellwall_measure_mp(core_num, np.uint(cwall_mat), nuclei, resolution, length_list, cwall_thres=90)\n",
    "\n",
    "with Pool(core_num) as p:\n",
    "    #calculation MFA using cores \n",
    "    callback_cw = p.map(cellwall_auto_measure_mp.cwall_measure_mp, range(core_num))"
   ]
  },
  {
   "cell_type": "code",
   "execution_count": 33,
   "metadata": {},
   "outputs": [
    {
     "name": "stderr",
     "output_type": "stream",
     "text": [
      "100%|██████████| 8/8 [00:00<00:00, 16955.25it/s]\n"
     ]
    }
   ],
   "source": [
    "result_list=[]\n",
    "for i in tqdm(range(len(callback_cw))):\n",
    "    result_list.extend(callback_cw[i])\n",
    "    \n",
    "cw_list=[result_list[i][0] for i in range(len(result_list))]\n",
    "label_list=[result_list[i][1] for i in range(len(result_list))]"
   ]
  },
  {
   "cell_type": "code",
   "execution_count": 34,
   "metadata": {},
   "outputs": [],
   "source": [
    "cwall_median=[np.median(cw_list[i]) for i in range(len(cw_list))]\n",
    "cwall_mean=[np.mean(cw_list[i]) for i in range(len(cw_list))]\n",
    "cwall_std=[np.std(cw_list[i]) for i in range(len(cw_list))]"
   ]
  },
  {
   "cell_type": "code",
   "execution_count": 36,
   "metadata": {},
   "outputs": [
    {
     "data": {
      "text/plain": [
       "(array([  0.,   0.,   0.,   0.,   0.,   0.,   0.,   0.,   0.,   0.,   0.,\n",
       "          9.,  12.,  20.,  18.,  21.,  37.,  46.,  73.,  84.,  96.,  95.,\n",
       "        107.,  84.,  84.,  68.,  47.,  58.,  43.,  41.,  30.,  17.,  24.,\n",
       "         11.,  10.,  15.,   5.,   6.,   6.,  11.,   8.,   4.,   3.,   0.,\n",
       "          2.,   0.,   0.,   0.,   0.,   0.]),\n",
       " array([1.00000e-03, 1.20980e-01, 2.40960e-01, 3.60940e-01, 4.80920e-01,\n",
       "        6.00900e-01, 7.20880e-01, 8.40860e-01, 9.60840e-01, 1.08082e+00,\n",
       "        1.20080e+00, 1.32078e+00, 1.44076e+00, 1.56074e+00, 1.68072e+00,\n",
       "        1.80070e+00, 1.92068e+00, 2.04066e+00, 2.16064e+00, 2.28062e+00,\n",
       "        2.40060e+00, 2.52058e+00, 2.64056e+00, 2.76054e+00, 2.88052e+00,\n",
       "        3.00050e+00, 3.12048e+00, 3.24046e+00, 3.36044e+00, 3.48042e+00,\n",
       "        3.60040e+00, 3.72038e+00, 3.84036e+00, 3.96034e+00, 4.08032e+00,\n",
       "        4.20030e+00, 4.32028e+00, 4.44026e+00, 4.56024e+00, 4.68022e+00,\n",
       "        4.80020e+00, 4.92018e+00, 5.04016e+00, 5.16014e+00, 5.28012e+00,\n",
       "        5.40010e+00, 5.52008e+00, 5.64006e+00, 5.76004e+00, 5.88002e+00,\n",
       "        6.00000e+00]),\n",
       " <a list of 50 Patch objects>)"
      ]
     },
     "execution_count": 36,
     "metadata": {},
     "output_type": "execute_result"
    },
    {
     "data": {
      "image/png": "[encoded data removed]",
      "text/plain": [
       "<Figure size 432x288 with 1 Axes>"
      ]
     },
     "metadata": {
      "needs_background": "light"
     },
     "output_type": "display_data"
    }
   ],
   "source": [
    "plt.hist(cwall_mean, bins=50, range=(0.001, 6))"
   ]
  },
  {
   "cell_type": "code",
   "execution_count": 42,
   "metadata": {},
   "outputs": [],
   "source": [
    "df[\"cwall_mean\"]=cwall_mean[1:]"
   ]
  },
  {
   "cell_type": "code",
   "execution_count": 44,
   "metadata": {},
   "outputs": [
    {
     "name": "stderr",
     "output_type": "stream",
     "text": [
      "100%|██████████| 2140/2140 [02:32<00:00, 14.09it/s]\n"
     ]
    }
   ],
   "source": [
    "cwall_mat=np.zeros((nuclei.shape[0], nuclei.shape[1]))\n",
    "for index in tqdm(df.index):\n",
    "    ind=np.where(nuclei==index)\n",
    "    cwall_mat[ind]=df[df.index==index][\"cwall_mean\"].values[0]"
   ]
  },
  {
   "cell_type": "code",
   "execution_count": 52,
   "metadata": {},
   "outputs": [
    {
     "data": {
      "image/png": "[encoded data removed]",
      "text/plain": [
       "<Figure size 432x288 with 2 Axes>"
      ]
     },
     "metadata": {
      "needs_background": "light"
     },
     "output_type": "display_data"
    }
   ],
   "source": [
    "plt.imshow(cwall_mat[2000:2500, 4200:5000], cmap=\"gist_ncar\")\n",
    "plt.colorbar()\n",
    "plt.show()"
   ]
  },
  {
   "cell_type": "code",
   "execution_count": 53,
   "metadata": {},
   "outputs": [
    {
     "data": {
      "text/plain": [
       "<matplotlib.image.AxesImage at 0x17883d3c8>"
      ]
     },
     "execution_count": 53,
     "metadata": {},
     "output_type": "execute_result"
    },
    {
     "data": {
      "image/png": "[encoded data removed]",
      "text/plain": [
       "<Figure size 432x288 with 1 Axes>"
      ]
     },
     "metadata": {
      "needs_background": "light"
     },
     "output_type": "display_data"
    }
   ],
   "source": [
    "plt.imshow(MFA[2000:2500, 4200:5000])"
   ]
  },
  {
   "cell_type": "code",
   "execution_count": null,
   "metadata": {},
   "outputs": [],
   "source": []
  },
  {
   "cell_type": "code",
   "execution_count": null,
   "metadata": {},
   "outputs": [],
   "source": []
  },
  {
   "cell_type": "markdown",
   "metadata": {},
   "source": [
    "データのロード"
   ]
  },
  {
   "cell_type": "code",
   "execution_count": 3,
   "metadata": {},
   "outputs": [],
   "source": [
    "npz=np.load(target_npz_path[0])\n",
    "nuclei=npz[\"nuclei\"]\n",
    "UV_im=npz[\"UV_im\"]\n",
    "lumen_im=npz[\"result_mat\"]\n",
    "\n",
    "df=pd.read_csv(prop_file_path[0])"
   ]
  },
  {
   "cell_type": "markdown",
   "metadata": {},
   "source": [
    "細胞壁の2値化画像の作成"
   ]
  },
  {
   "cell_type": "code",
   "execution_count": 4,
   "metadata": {},
   "outputs": [
    {
     "name": "stderr",
     "output_type": "stream",
     "text": [
      "100%|██████████| 2837/2837 [13:30<00:00,  3.49it/s]\n"
     ]
    }
   ],
   "source": [
    "#create image for measuring lumen properties\n",
    "#threshold = threshold_otsu(UV_im_gray)\n",
    "#lumen_binary=(UV_im_gray<threshold)*255\n",
    "\n",
    "#get lumen labeled image\n",
    "#lumen_im=np.where(lumen_binary==0, 0, nuclei)\n",
    "cwall_mat=np.zeros((lumen_im.shape[0], lumen_im.shape[1]))\n",
    "\n",
    "#ノイズ除去, 時間がかかるのでregion propsで置き換えたほうがよい\n",
    "for label in tqdm(np.unique(lumen_im.flatten())[1:]):\n",
    "    lumen_im_binary=np.where(lumen_im==label, 255, 0)\n",
    "    \n",
    "    retval, labels, stats, centroids = cv2.connectedComponentsWithStats(np.uint8(lumen_im_binary))\n",
    "    \n",
    "    if len(stats[1:, 4])==0:\n",
    "        pass\n",
    "    else:\n",
    "        target_label_ind=np.argmax(stats[1:, 4])\n",
    "        label_list=np.arange(retval)[1:]\n",
    "        target_ind=np.where(labels==label_list[target_label_ind])\n",
    "        cwall_mat[target_ind]=255"
   ]
  },
  {
   "cell_type": "code",
   "execution_count": 12,
   "metadata": {},
   "outputs": [
    {
     "name": "stderr",
     "output_type": "stream",
     "text": [
      "100%|██████████| 419/419 [05:44<00:00,  1.18it/s]\n",
      "100%|██████████| 420/420 [05:44<00:00,  1.22it/s]\n",
      "100%|██████████| 419/419 [05:45<00:00,  1.48it/s]\n",
      "100%|██████████| 420/420 [05:43<00:00,  1.49it/s]\n",
      "100%|██████████| 419/419 [05:43<00:00,  1.55it/s]\n",
      "100%|██████████| 420/420 [05:45<00:00,  1.56it/s]\n",
      "100%|██████████| 419/419 [05:42<00:00,  1.57it/s]\n",
      "100%|██████████| 420/420 [05:40<00:00,  1.84it/s]\n"
     ]
    }
   ],
   "source": [
    "#call class\n",
    "core_num=8\n",
    "length_list=np.repeat(int(6/resolution) , len(df)+1)\n",
    "cellwall_auto_measure_mp=cellwall_measure_mp(core_num, np.uint(cwall_mat), nuclei, resolution, length_list, cwall_thres=90)\n",
    "\n",
    "with Pool(core_num) as p:\n",
    "    #calculation MFA using cores \n",
    "    callback_cw = p.map(cellwall_auto_measure_mp.cwall_measure_mp, range(core_num))"
   ]
  },
  {
   "cell_type": "code",
   "execution_count": 13,
   "metadata": {},
   "outputs": [
    {
     "name": "stderr",
     "output_type": "stream",
     "text": [
      "100%|██████████| 8/8 [00:00<00:00, 19599.55it/s]\n"
     ]
    }
   ],
   "source": [
    "result_list=[]\n",
    "for i in tqdm(range(len(callback_cw))):\n",
    "    result_list.extend(callback_cw[i])\n",
    "    \n",
    "cw_list=[result_list[i][0] for i in range(len(result_list))]\n",
    "label_list=[result_list[i][1] for i in range(len(result_list))]"
   ]
  },
  {
   "cell_type": "code",
   "execution_count": 19,
   "metadata": {},
   "outputs": [],
   "source": [
    "cwall_median=[np.median(cw_list[i]) for i in range(len(cw_list))]\n",
    "cwall_mean=[np.mean(cw_list[i]) for i in range(len(cw_list))]\n",
    "cwall_std=[np.std(cw_list[i]) for i in range(len(cw_list))]"
   ]
  },
  {
   "cell_type": "markdown",
   "metadata": {},
   "source": [
    "dfに追加"
   ]
  },
  {
   "cell_type": "code",
   "execution_count": 20,
   "metadata": {},
   "outputs": [],
   "source": [
    "df[\"cwall_mean\"]=cwall_mean[1:]\n",
    "df[\"cwall_std\"]=cwall_std[1:]"
   ]
  },
  {
   "cell_type": "code",
   "execution_count": 21,
   "metadata": {},
   "outputs": [],
   "source": [
    "df.to_csv(os.path.join(props_path, \"cell_properties.csv\"), index=False)"
   ]
  }
 ],
 "metadata": {
  "kernelspec": {
   "display_name": "YKDL",
   "language": "python",
   "name": "ykdl"
  },
  "language_info": {
   "codemirror_mode": {
    "name": "ipython",
    "version": 3
   },
   "file_extension": ".py",
   "mimetype": "text/x-python",
   "name": "python",
   "nbconvert_exporter": "python",
   "pygments_lexer": "ipython3",
   "version": "3.6.8"
  }
 },
 "nbformat": 4,
 "nbformat_minor": 2
}
