{
 "cells": [
  {
   "cell_type": "markdown",
   "metadata": {},
   "source": [
    "2023/3/4<br>\n",
    "This code is for extracting anatomical parameters and MFA cell by cell"
   ]
  },
  {
   "cell_type": "code",
   "execution_count": 1,
   "metadata": {},
   "outputs": [],
   "source": [
    "import os\n",
    "import cv2\n",
    "import copy\n",
    "import glob\n",
    "import common.Watershed_func\n",
    "import numpy as np\n",
    "import pandas as pd\n",
    "import mahotas as mh\n",
    "import matplotlib.pyplot as plt\n",
    "from tqdm import tqdm\n",
    "from scipy import interpolate, stats\n",
    "from scipy.signal import savgol_filter\n",
    "from skimage.measure import regionprops\n",
    "from sklearn.neighbors import KernelDensity"
   ]
  },
  {
   "cell_type": "code",
   "execution_count": 2,
   "metadata": {},
   "outputs": [],
   "source": [
    "current_path=os.getcwd()\n",
    "npz_path=os.path.join(current_path, \"npz_file\")\n",
    "target_npz_path=os.path.join(npz_path, \"pred_im_concatenation\")\n",
    "segmentation_npz_path=os.path.join(npz_path, \"segmentation\")\n",
    "gt_path=os.path.join(current_path, \"fig_save\", \"pred_concatenation\")\n",
    "Polscope_x40=160.256 #nm/pixel\n",
    "\n",
    "if os.path.exists(segmentation_npz_path)==False:\n",
    "    os.makedirs(segmentation_npz_path)\n",
    "\n",
    "#get path of npz files\n",
    "npz_files=glob.glob(os.path.join(target_npz_path, \"*.npz\"))"
   ]
  },
  {
   "cell_type": "markdown",
   "metadata": {},
   "source": [
    "define function"
   ]
  },
  {
   "cell_type": "code",
   "execution_count": 3,
   "metadata": {},
   "outputs": [],
   "source": [
    "def get_anatomy(nuclei_, lumen_im):\n",
    "    #extrat cell anatomy\n",
    "    #calculate region props\n",
    "    props_cell = regionprops(nuclei_)\n",
    "    props_lumen = regionprops(lumen_im)\n",
    "\n",
    "    #prepare dataframe\n",
    "    cell_label_list=[props_cell[j][\"label\"] for j in range(len(props_cell))]\n",
    "    lumen_label_list=[props_lumen[j][\"label\"] for j in range(len(props_lumen))]\n",
    "\n",
    "    target_indicators=[\"area\", \"perimeter\", \"eccentricity\", \"centroid\"]\n",
    "    cell_target_indicators=[\"cell_area\", \"cell_perimeter\", \"cell_eccentricity\", \"cell_centroid_x\", \"cell_centroid_y\"]\n",
    "    lumen_target_indicators=[cell_target_indicators[i].replace(\"cell\", \"lumen\") for i in range(len(cell_target_indicators))]\n",
    "\n",
    "    df_cell=pd.DataFrame(columns=cell_target_indicators, index=cell_label_list)\n",
    "    df_lumen=pd.DataFrame(columns=lumen_target_indicators, index=lumen_label_list)\n",
    "    \n",
    "    for i, target_indicator in enumerate(target_indicators):\n",
    "        if target_indicator==\"centroid\":\n",
    "            cell_centroid_x_list=[np.int(props_cell[j][target_indicator][1]) for j in range(len(props_cell))]\n",
    "            cell_centroid_y_list=[np.int(props_cell[j][target_indicator][0]) for j in range(len(props_cell))]\n",
    "            df_cell.iloc[:, i]=cell_centroid_x_list\n",
    "            df_cell.iloc[:, i+1]=cell_centroid_y_list\n",
    "\n",
    "            lumen_centroid_x_list=[np.int(props_lumen[j][target_indicator][1]) for j in range(len(props_lumen))]\n",
    "            lumen_centroid_y_list=[np.int(props_lumen[j][target_indicator][0]) for j in range(len(props_lumen))]\n",
    "            df_lumen.iloc[:, i]=lumen_centroid_x_list\n",
    "            df_lumen.iloc[:, i+1]=lumen_centroid_y_list\n",
    "\n",
    "        else:\n",
    "            target_cell_indicator_list=[props_cell[j][target_indicator] for j in range(len(props_cell))]\n",
    "            df_cell.iloc[:, i]=target_cell_indicator_list\n",
    "\n",
    "            target_lumen_indicator_list=[props_lumen[j][target_indicator] for j in range(len(props_lumen))]\n",
    "            df_lumen.iloc[:, i]=target_lumen_indicator_list\n",
    "        \n",
    "    #merge dataframe\n",
    "    df_result=df_cell.join(df_lumen)\n",
    "    df_result=df_result.replace(np.nan,{'lumen_area':0,'lumen_perimeter':0})\n",
    "\n",
    "    #add cellwall occupancy and cellwall area on dataframe\n",
    "    cellwall_occupancy=(df_result[\"cell_area\"]-df_result[\"lumen_area\"])/df_result[\"cell_area\"]\n",
    "    cellwall_area=df_result[\"cell_area\"]-df_result[\"lumen_area\"]\n",
    "\n",
    "    df_result[\"cellwall_area\"]=cellwall_area\n",
    "    df_result[\"cellwall_occupancy\"]=cellwall_occupancy\n",
    "    \n",
    "    return df_result"
   ]
  },
  {
   "cell_type": "code",
   "execution_count": 4,
   "metadata": {},
   "outputs": [
    {
     "name": "stderr",
     "output_type": "stream",
     "text": [
      "33it [00:06,  5.53it/s]\n"
     ]
    }
   ],
   "source": [
    "gt_im_files=[]\n",
    "for curdir, _, files in tqdm(os.walk(gt_path)):\n",
    "    if len(files)>0:\n",
    "        for file in files:\n",
    "            target_path=os.path.join(curdir, file)\n",
    "            gt_im=cv2.imread(target_path)\n",
    "            gt_im=gt_im[:, :, 2]\n",
    "            gt_im=cv2.bitwise_not(gt_im)\n",
    "            gt_im_files.append(gt_im)"
   ]
  },
  {
   "cell_type": "markdown",
   "metadata": {},
   "source": [
    "watershed segmentation and anatomical parameter extraction"
   ]
  },
  {
   "cell_type": "code",
   "execution_count": 8,
   "metadata": {},
   "outputs": [
    {
     "name": "stderr",
     "output_type": "stream",
     "text": [
      "0it [00:00, ?it/s]/Users/AR3/anaconda3/envs/YKDL/lib/python3.6/site-packages/skimage/measure/_regionprops.py:250: UserWarning: regionprops and image moments (including moments, normalized moments, central moments, and inertia tensor) of 2D images will change from xy coordinates to rc coordinates in version 0.16.\n",
      "See http://scikit-image.org/docs/0.14.x/release_notes_and_installation.html#deprecations for details on how to avoid this message.\n",
      "  warn(XY_TO_RC_DEPRECATION_MESSAGE)\n",
      "/Users/AR3/anaconda3/envs/YKDL/lib/python3.6/site-packages/skimage/measure/_regionprops.py:260: UserWarning: regionprops and image moments (including moments, normalized moments, central moments, and inertia tensor) of 2D images will change from xy coordinates to rc coordinates in version 0.16.\n",
      "See http://scikit-image.org/docs/0.14.x/release_notes_and_installation.html#deprecations for details on how to avoid this message.\n",
      "  warn(XY_TO_RC_DEPRECATION_MESSAGE)\n",
      "32it [13:19, 24.37s/it]\n"
     ]
    }
   ],
   "source": [
    "df_list=[]\n",
    "nuclei_list=[]\n",
    "\n",
    "for gt_im, npz_file in tqdm(zip(gt_im_files, npz_files)):\n",
    "    #watershed segmentation\n",
    "    watershed=common.Watershed_func.watershed()\n",
    "    nuclei, lines=watershed.watershed_segmentation(gt_im)\n",
    "    nuclei_ = mh.labeled.remove_bordering(nuclei)\n",
    "    \n",
    "    #load npz\n",
    "    npz=np.load(npz_file)\n",
    "    MFA=npz[\"MFA\"]\n",
    "    cw_ind=np.where(MFA>0)\n",
    "    lumen_im=copy.deepcopy(nuclei_)\n",
    "    lumen_im[cw_ind]=0\n",
    "    \n",
    "    #extract anatomy\n",
    "    df_result=get_anatomy(nuclei_, lumen_im)\n",
    "    \n",
    "    #save result\n",
    "    df_list.append(df_result)\n",
    "    nuclei_list.append(nuclei_)\n",
    "    \n",
    "    sample_name=os.path.splitext(os.path.basename(npz_file))[0]\n",
    "    np.savez_compressed(os.path.join(segmentation_npz_path, str(sample_name)+\".npz\"), \n",
    "                        nuclei=nuclei_, lumen_im=lumen_im)"
   ]
  },
  {
   "cell_type": "markdown",
   "metadata": {},
   "source": [
    "cell by cell MFA extraction"
   ]
  },
  {
   "cell_type": "code",
   "execution_count": 32,
   "metadata": {},
   "outputs": [
    {
     "name": "stderr",
     "output_type": "stream",
     "text": [
      "100%|██████████| 2140/2140 [03:34<00:00,  9.96it/s]\n",
      "100%|██████████| 2802/2802 [04:27<00:00, 10.48it/s]\n",
      "100%|██████████| 2881/2881 [05:10<00:00,  9.28it/s]\n",
      "100%|██████████| 4377/4377 [06:28<00:00, 14.00it/s]\n",
      "100%|██████████| 2877/2877 [04:23<00:00, 10.92it/s]\n",
      "100%|██████████| 2800/2800 [04:35<00:00, 10.16it/s]\n",
      "100%|██████████| 1934/1934 [03:20<00:00,  9.64it/s]\n",
      "100%|██████████| 1807/1807 [02:58<00:00, 10.15it/s]\n",
      "100%|██████████| 1416/1416 [01:28<00:00, 16.08it/s]\n",
      "100%|██████████| 3509/3509 [05:26<00:00, 10.76it/s]\n",
      "100%|██████████| 3526/3526 [06:33<00:00,  8.97it/s]\n",
      "100%|██████████| 4547/4547 [09:14<00:00,  8.21it/s]  \n",
      "100%|██████████| 1799/1799 [03:12<00:00, 11.46it/s]\n",
      "100%|██████████| 3688/3688 [06:55<00:00, 10.60it/s] \n",
      "100%|██████████| 2899/2899 [04:28<00:00, 10.78it/s]\n",
      "100%|██████████| 3355/3355 [05:49<00:00,  9.59it/s]\n",
      "100%|██████████| 3590/3590 [04:51<00:00, 14.46it/s]\n",
      "100%|██████████| 2984/2984 [03:31<00:00, 16.71it/s]\n",
      "100%|██████████| 6996/6996 [15:06<00:00,  8.66it/s]\n",
      "100%|██████████| 2464/2464 [04:13<00:00,  9.73it/s]\n",
      "100%|██████████| 4414/4414 [06:44<00:00, 10.90it/s]\n",
      "100%|██████████| 3435/3435 [05:50<00:00,  9.80it/s]\n",
      "100%|██████████| 2258/2258 [02:36<00:00, 14.41it/s]\n",
      "100%|██████████| 2933/2933 [03:05<00:00, 15.83it/s]\n",
      "100%|██████████| 3263/3263 [04:41<00:00, 11.61it/s]\n",
      "100%|██████████| 3953/3953 [07:08<00:00,  9.23it/s]\n",
      "100%|██████████| 2082/2082 [02:31<00:00, 19.15it/s]\n",
      "100%|██████████| 2664/2664 [04:00<00:00, 13.87it/s]\n",
      "100%|██████████| 2381/2381 [03:19<00:00, 14.88it/s]\n",
      "100%|██████████| 3150/3150 [04:37<00:00, 11.36it/s]\n",
      "100%|██████████| 2768/2768 [04:29<00:00, 12.15it/s]\n",
      "100%|██████████| 3242/3242 [04:31<00:00, 11.94it/s]\n"
     ]
    }
   ],
   "source": [
    "df_MFA_list=[]\n",
    "\n",
    "for i in range(len(npz_files)):\n",
    "    #load npz\n",
    "    target_npz=npz_files[i]\n",
    "    target_df=df_list[i]\n",
    "    target_nuclei=nuclei_list[i]\n",
    "    \n",
    "    npz=np.load(target_npz)\n",
    "    target_MFA=npz[\"MFA\"]\n",
    "    \n",
    "    #set list\n",
    "    cell_labels=target_df.index.values\n",
    "    MFA_mean_list=[]\n",
    "    MFA_mode_list=[]\n",
    "    MFA_std_list=[]\n",
    "    \n",
    "    for cell_label in tqdm(cell_labels):\n",
    "        #get pixel values of target cell region\n",
    "        cell_ind=np.where(target_nuclei==cell_label)\n",
    "        cell_MFA=target_MFA[cell_ind]\n",
    "        cell_MFA=cell_MFA[cell_MFA>0]\n",
    "        \n",
    "        if len(cell_MFA)==0:\n",
    "            MFA_mean=np.nan\n",
    "            MFA_std=np.nan\n",
    "            MFA_mode=np.nan\n",
    "            \n",
    "            #save result\n",
    "            MFA_mean_list.append(MFA_mean)\n",
    "            MFA_mode_list.append(MFA_mode)\n",
    "            MFA_std_list.append(MFA_std)\n",
    "            \n",
    "        else:\n",
    "            #kernel density estimation\n",
    "            X = cell_MFA[:, np.newaxis]\n",
    "            X_plot = np.linspace(0, 70, 141)[:, np.newaxis]\n",
    "            kde = KernelDensity(kernel=\"gaussian\", bandwidth=3).fit(X)\n",
    "            log_dens = kde.score_samples(X_plot)\n",
    "            dens=np.exp(log_dens)\n",
    "\n",
    "            #get statistics\n",
    "            MFA_mean=np.sum(dens*X_plot.flatten())/np.sum(dens)\n",
    "            MFA_std=np.sqrt(np.sum([dens[j]*((X_plot.flatten()[j]-MFA_mean)**2) for j in range(len(dens))])/np.sum(dens))\n",
    "            MFA_mode=X_plot[np.argmax(dens)][0]\n",
    "\n",
    "            #save result\n",
    "            MFA_mean_list.append(np.round(MFA_mean, 1))\n",
    "            MFA_mode_list.append(MFA_mode)\n",
    "            MFA_std_list.append(np.round(MFA_std, 1))\n",
    "        \n",
    "    #add columns\n",
    "    target_df[\"MFA_mean\"]=MFA_mean_list\n",
    "    target_df[\"MFA_mode\"]=MFA_mode_list\n",
    "    target_df[\"MFA_std\"]=MFA_std_list\n",
    "    \n",
    "    df_MFA_list.append(target_df)"
   ]
  },
  {
   "cell_type": "code",
   "execution_count": 34,
   "metadata": {},
   "outputs": [
    {
     "name": "stderr",
     "output_type": "stream",
     "text": [
      "/Users/AR3/anaconda3/envs/YKDL/lib/python3.6/site-packages/numpy/core/_asarray.py:136: VisibleDeprecationWarning: Creating an ndarray from ragged nested sequences (which is a list-or-tuple of lists-or-tuples-or ndarrays with different lengths or shapes) is deprecated. If you meant to do this, you must specify 'dtype=object' when creating the ndarray\n",
      "  return array(a, dtype, copy=False, order=order, subok=True)\n"
     ]
    }
   ],
   "source": [
    "#save dataframe\n",
    "np.savez_compressed(os.path.join(npz_path, \"Dataframe_MFA_anatomy.npz\"), \n",
    "                    df_list=df_MFA_list)"
   ]
  }
 ],
 "metadata": {
  "kernelspec": {
   "display_name": "YKDL",
   "language": "python",
   "name": "ykdl"
  },
  "language_info": {
   "codemirror_mode": {
    "name": "ipython",
    "version": 3
   },
   "file_extension": ".py",
   "mimetype": "text/x-python",
   "name": "python",
   "nbconvert_exporter": "python",
   "pygments_lexer": "ipython3",
   "version": "3.6.8"
  }
 },
 "nbformat": 4,
 "nbformat_minor": 2
}
