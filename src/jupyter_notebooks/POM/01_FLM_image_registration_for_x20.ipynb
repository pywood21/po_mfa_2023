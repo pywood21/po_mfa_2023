{
 "cells": [
  {
   "cell_type": "markdown",
   "metadata": {},
   "source": [
    "2023/02/16<br>\n",
    "\n",
    "This ocde is for getting retardation, azimuthal angle and MFA images based on PolSope algorithm.<br>\n",
    "After conversion, all images are concatenated by Phase-only-orrelated method.<br>"
   ]
  },
  {
   "cell_type": "code",
   "execution_count": 1,
   "metadata": {},
   "outputs": [],
   "source": [
    "import numpy as np\n",
    "import matplotlib.pyplot as plt\n",
    "import pandas as pd\n",
    "import cv2\n",
    "import itertools\n",
    "import os\n",
    "import gc\n",
    "from tqdm import tqdm\n",
    "import multiprocessing as mp\n",
    "from multiprocessing import Pool\n",
    "from module.im_stitching import *\n",
    "from module.Tool_box import *\n",
    "import copy"
   ]
  },
  {
   "cell_type": "code",
   "execution_count": 2,
   "metadata": {},
   "outputs": [],
   "source": [
    "current_path=os.getcwd()\n",
    "image_path=os.path.join(current_path, \"FLM\")\n",
    "species=os.listdir(image_path)\n",
    "npz_path=os.path.join(current_path, \"npz_file\")\n",
    "save_path=os.path.join(current_path, \"fig_save\")\n",
    "\n",
    "path_list=[[npz_path, \"FLM_temp_save\"], [save_path, \"FLM_temp\"]]\n",
    "\n",
    "for path in path_list:\n",
    "    create_folder(path[0], path[1])\n",
    "\n",
    "#find samlpe name from dierctory\n",
    "sample_path_list=[]\n",
    "for curDir, dirs, files in os.walk(image_path):\n",
    "    if len(files)>1:\n",
    "        sample_path_list.append(curDir)"
   ]
  },
  {
   "cell_type": "code",
   "execution_count": 3,
   "metadata": {},
   "outputs": [],
   "source": [
    "#adjust image size\n",
    "FLM_x20=108.237 #nm/pixel\n",
    "Polscope_x40=160.256 #nm/pixel\n",
    "\n",
    "scaling_factor=FLM_x20/Polscope_x40"
   ]
  },
  {
   "cell_type": "code",
   "execution_count": 4,
   "metadata": {},
   "outputs": [
    {
     "name": "stderr",
     "output_type": "stream",
     "text": [
      "100%|██████████| 11/11 [00:00<00:00, 3971.20it/s]\n"
     ]
    }
   ],
   "source": [
    "file_path_list=[]\n",
    "sample_position_list=[]\n",
    "\n",
    "for sample_path in tqdm(sample_path_list):\n",
    "    #find target files\n",
    "    file_path_list_temp=find_target(sample_path, extension=\"tif\")\n",
    "    file_path_list_temp=list(itertools.chain.from_iterable(file_path_list_temp))\n",
    "    \n",
    "    #get target position\n",
    "    sample_position_list_temp=[os.path.splitext(os.path.basename(file_path_list_temp[i]))[0].split(\"_\")[-2:]\n",
    "                                   for i in range((len(file_path_list_temp)))]\n",
    "    \n",
    "    #create batches of image paths\n",
    "    height_div=int(os.path.splitext(file_path_list_temp[-1])[0].split(\"_\")[-2])+1\n",
    "    r_num=len(file_path_list_temp)//height_div\n",
    "    file_path_rearrange=[file_path_list_temp[r_num*i:r_num*(i+1)] for i in range(len(file_path_list_temp)//r_num)]\n",
    "    \n",
    "    #save results\n",
    "    file_path_list.append(file_path_rearrange)\n",
    "    sample_position_list.append(sample_position_list_temp)"
   ]
  },
  {
   "cell_type": "markdown",
   "metadata": {},
   "source": [
    "**Stitch images and save them as npz**<br>\n",
    "This step is done by multisteps for considering memory handling."
   ]
  },
  {
   "cell_type": "code",
   "execution_count": 8,
   "metadata": {},
   "outputs": [
    {
     "name": "stderr",
     "output_type": "stream",
     "text": [
      "100%|██████████| 3/3 [00:25<00:00,  8.58s/it]\n"
     ]
    }
   ],
   "source": [
    "for i, file_path_sp in enumerate(file_path_list[9:10]):\n",
    "    for file_path_batch in tqdm(file_path_sp):\n",
    "        #get row number\n",
    "        row_No=os.path.splitext(file_path_batch[0])[0].split(\"_\")[-2]\n",
    "        \n",
    "        #load image\n",
    "        FLM=list(map(load_im, file_path_batch))\n",
    "        FLM=[resize_im(FLM[j], scaling=scaling_factor, interpolation=cv2.INTER_NEAREST) \n",
    "             for j in range(len(FLM))]\n",
    "        \n",
    "        \"\"\"\n",
    "        FLM_norm=[]\n",
    "        for j in range(len(FLM)):\n",
    "            target_FLM=FLM[j]\n",
    "            target_layer=target_FLM[:, :, 2]\n",
    "            target_layer=(target_layer-np.min(target_layer))/(np.max(target_layer)-np.min(target_layer))*255\n",
    "            target_FLM[:, :, 2]=target_layer\n",
    "            FLM_norm.append(np.uint8(target_FLM))\n",
    "        \"\"\"\n",
    "        \n",
    "        ####Binarization####\n",
    "        FLM_b=[binarize_im(FLM[j][:, :, 2], inv=True) for j in range(len(FLM))]\n",
    "\n",
    "        #if mulitiple images exist in row direction, sticthing is performed.\n",
    "        #else, original image is returned.\n",
    "            \n",
    "        \n",
    "        ####image stitching####\n",
    "        #if mulitiple images exist in row direction, sticthing is performed.\n",
    "        #else, original image is returned.\n",
    "        if len(FLM_b)>1:\n",
    "            #image stitching in row directions\n",
    "            FLM_b_stitch_row, FLM_stitch_row = stitch_im_POC(FLM_b, FLM, ref_padding=255, target_padding=0)\n",
    "\n",
    "        else:\n",
    "            FLM_b_stitch_row = FLM_b[0]\n",
    "            FLM_stitch_row = FLM[0]\n",
    "                \n",
    "        #save the result of stitching\n",
    "        sample_name=file_path_batch[0].split(\"/\")[-2]\n",
    "        \n",
    "        create_folder(os.path.join(save_path, \"FLM_temp\"), str(sample_name))\n",
    "        fig, ax=plt.subplots(1, 1)\n",
    "        ax.imshow(FLM_stitch_row)\n",
    "        ax.axis(\"off\")\n",
    "        plt.savefig(os.path.join(save_path, \"FLM_temp\", str(sample_name), \n",
    "                                                            str(sample_name)+\"_rowNo_\"+str(row_No)+\".png\"), dpi=450)\n",
    "        plt.close()\n",
    "        \n",
    "        #create folder\n",
    "        create_folder(os.path.join(npz_path, \"FLM_temp_save\"), str(sample_name))\n",
    "        \n",
    "        #save as npz\n",
    "        np.savez_compressed(os.path.join(npz_path, \"FLM_temp_save\", str(sample_name), \n",
    "                                         str(sample_name)+\"_rowNo_\"+str(row_No)+\".npz\"), \n",
    "                            FLM=FLM_stitch_row, FLM_b=FLM_b_stitch_row)\n",
    "        \n",
    "        #delete list and release memory\n",
    "        del FLM, FLM_b, FLM_b_stitch_row, FLM_stitch_row\n",
    "        gc.collect()"
   ]
  },
  {
   "cell_type": "markdown",
   "metadata": {},
   "source": [
    "**Reload stitching results and sticth them in column direction**"
   ]
  },
  {
   "cell_type": "code",
   "execution_count": 9,
   "metadata": {},
   "outputs": [
    {
     "name": "stderr",
     "output_type": "stream",
     "text": [
      "100%|██████████| 1/1 [00:15<00:00, 15.52s/it]\n"
     ]
    }
   ],
   "source": [
    "for i, sample_path in enumerate(sample_path_list[9:10]):\n",
    "    sample_name=sample_path.split(\"/\")[-1]\n",
    "    target_path=os.path.join(npz_path, \"FLM_temp_save\", sample_name)\n",
    "    npz_paths=find_target(target_path, extension=\".npz\")\n",
    "    \n",
    "    for npz_path_sp in tqdm(npz_paths):\n",
    "        #load images\n",
    "        FLM_list=[]\n",
    "        FLM_b_list=[]\n",
    "        for npz_path_ind in npz_path_sp:\n",
    "            npz=np.load(npz_path_ind)\n",
    "            FLM=npz[\"FLM\"]\n",
    "\n",
    "            #binarization\n",
    "            FLM_b=binarize_im(FLM[:, :, 2], inv=False)\n",
    "\n",
    "            #save results\n",
    "            FLM_list.append(FLM)\n",
    "            FLM_b_list.append(FLM_b)\n",
    "\n",
    "        #image stitching in row directions\n",
    "        FLM_b_stitch_column, FLM_stitch_column = stitch_im_POC(FLM_b_list, FLM_list)\n",
    "\n",
    "        #save the result of stitching\n",
    "        create_folder(os.path.join(save_path, \"FLM_stitching_results\"), str(sample_name))\n",
    "        fig, ax=plt.subplots(1, 1)\n",
    "        ax.imshow(FLM_stitch_column)\n",
    "        ax.axis(\"off\")\n",
    "        plt.savefig(os.path.join(save_path, \"FLM_stitching_results\", str(sample_name), \n",
    "                                                            str(sample_name)+\".png\"), dpi=450)\n",
    "        plt.close()\n",
    "\n",
    "        #create folder\n",
    "        create_folder(os.path.join(npz_path, \"FLM_stitching_results\"), str(sample_name))\n",
    "\n",
    "        #save as npz\n",
    "        np.savez_compressed(os.path.join(npz_path, \"FLM_stitching_results\", str(sample_name), \n",
    "                                         str(sample_name)+\".npz\"), \n",
    "                            FLM=FLM_stitch_column, FLM_b=FLM_b_stitch_column)\n",
    "\n",
    "        #delete list and release memory\n",
    "        del FLM_b_stitch_column, FLM_stitch_column, FLM_list, FLM_b_list\n",
    "        gc.collect()"
   ]
  },
  {
   "cell_type": "code",
   "execution_count": null,
   "metadata": {},
   "outputs": [],
   "source": []
  }
 ],
 "metadata": {
  "kernelspec": {
   "display_name": "YKDL",
   "language": "python",
   "name": "ykdl"
  },
  "language_info": {
   "codemirror_mode": {
    "name": "ipython",
    "version": 3
   },
   "file_extension": ".py",
   "mimetype": "text/x-python",
   "name": "python",
   "nbconvert_exporter": "python",
   "pygments_lexer": "ipython3",
   "version": "3.6.8"
  }
 },
 "nbformat": 4,
 "nbformat_minor": 2
}
