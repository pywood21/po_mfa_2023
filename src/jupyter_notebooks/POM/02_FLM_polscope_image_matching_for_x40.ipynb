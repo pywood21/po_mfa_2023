{
 "cells": [
  {
   "cell_type": "markdown",
   "metadata": {},
   "source": [
    "2022/11/10<br>\n",
    "This code is for matching FLM and polscope image by SIFT.<br>\n",
    "Resolution of FLM is slightly higher than that of polscope.<br>\n",
    "After matching, MFA of each cell can be freely accessible.<br>"
   ]
  },
  {
   "cell_type": "code",
   "execution_count": 7,
   "metadata": {},
   "outputs": [],
   "source": [
    "import numpy as np\n",
    "import matplotlib.pyplot as plt\n",
    "import os, sys\n",
    "import cv2\n",
    "import copy\n",
    "import itertools\n",
    "from module.im_stitching import *\n",
    "from module.Stitcher import Stitcher\n",
    "from skimage.filters import threshold_otsu, threshold_triangle, threshold_yen, threshold_mean, threshold_minimum, threshold_li, threshold_isodata\n",
    "from skimage.util import img_as_ubyte\n",
    "from tqdm import tqdm"
   ]
  },
  {
   "cell_type": "markdown",
   "metadata": {},
   "source": [
    "Load all results"
   ]
  },
  {
   "cell_type": "code",
   "execution_count": 8,
   "metadata": {},
   "outputs": [],
   "source": [
    "current_path=os.getcwd()\n",
    "npz_path=os.path.join(current_path, \"npz_file\")\n",
    "FLM_path=os.path.join(npz_path, \"FLM_stitching_results\")\n",
    "MFA_path=os.path.join(npz_path, \"stitching_results\")\n",
    "save_path=os.path.join(current_path, \"fig_save\", \"image_registration\")\n",
    "\n",
    "if os.path.exists(save_path)==False:\n",
    "    os.makedirs(save_path)"
   ]
  },
  {
   "cell_type": "code",
   "execution_count": 9,
   "metadata": {},
   "outputs": [],
   "source": [
    "FLM_file_path_list=[]\n",
    "MFA_file_path_list=[]\n",
    "sample_name_list=[]\n",
    "\n",
    "for root, dirs, files in os.walk(FLM_path):\n",
    "    if (len(files)>0):\n",
    "        file_path_extract=[os.path.join(root, files[i]) for i in range(len(files)) if \"DS_Store\" not in files[i]]\n",
    "        FLM_file_path_list.append(file_path_extract)\n",
    "    else:\n",
    "        pass\n",
    "    \n",
    "for root, dirs, files in os.walk(MFA_path):\n",
    "    if (len(files)>0):\n",
    "        file_path_extract=[os.path.join(root, files[i]) for i in range(len(files)) if \"DS_Store\" not in files[i]]\n",
    "        MFA_file_path_list.append(file_path_extract)\n",
    "    else:\n",
    "        pass\n",
    "\n",
    "FLM_file_path_list=list(itertools.chain.from_iterable(FLM_file_path_list))\n",
    "MFA_file_path_list=list(itertools.chain.from_iterable(MFA_file_path_list))"
   ]
  },
  {
   "cell_type": "code",
   "execution_count": 10,
   "metadata": {},
   "outputs": [
    {
     "data": {
      "text/plain": [
       "'\\n#binarization  condition\\nthres_const_list=np.array([0.5, 0.5, 0.5, 0.5, 1, 0.3, 1, 1, 0.3, 1, \\n                           1, 1, 1, 1, 1, 1, 1, 1, 0.3, 1, \\n                           1, 0.3, 1, 1, 1, 1, 0.3, 1, 1, 1, \\n                           1, 1, 1, 1])\\n    \\n\\nprint(len(MFA_file_path_list)==len(thres_const_list))\\n'"
      ]
     },
     "execution_count": 10,
     "metadata": {},
     "output_type": "execute_result"
    }
   ],
   "source": [
    "#extract common sample data from FLM and MFA\n",
    "FLM_sample_list=[FLM_file_path_list[i].split(\"/\")[-2] for i in range(len(FLM_file_path_list))]\n",
    "MFA_sample_list=[MFA_file_path_list[i].split(\"/\")[-2][:-2] for i in range(len(MFA_file_path_list))]\n",
    "\n",
    "common_sample_list=list(set(FLM_sample_list) & set(MFA_sample_list))\n",
    "\n",
    "FLM_file_path_list=[FLM_file_path for FLM_file_path in FLM_file_path_list if FLM_file_path.split(\"/\")[-2] in common_sample_list]\n",
    "MFA_file_path_list=[MFA_file_path for MFA_file_path in MFA_file_path_list if MFA_file_path.split(\"/\")[-2][:-2] in common_sample_list]\n",
    "\"\"\"\n",
    "#binarization  condition\n",
    "thres_const_list=np.array([0.5, 0.5, 0.5, 0.5, 1, 0.3, 1, 1, 0.3, 1, \n",
    "                           1, 1, 1, 1, 1, 1, 1, 1, 0.3, 1, \n",
    "                           1, 0.3, 1, 1, 1, 1, 0.3, 1, 1, 1, \n",
    "                           1, 1, 1, 1])\n",
    "    \n",
    "\n",
    "print(len(MFA_file_path_list)==len(thres_const_list))\n",
    "\"\"\""
   ]
  },
  {
   "cell_type": "markdown",
   "metadata": {},
   "source": [
    "Image registration"
   ]
  },
  {
   "cell_type": "code",
   "execution_count": 14,
   "metadata": {},
   "outputs": [
    {
     "name": "stderr",
     "output_type": "stream",
     "text": [
      "\r",
      "0it [00:00, ?it/s]"
     ]
    },
    {
     "name": "stdout",
     "output_type": "stream",
     "text": [
      "Size of original image, imageA: 4043*4387\n",
      "Size of original image, imageB: 4043*4387\n",
      "After concatenation, image: 4043*4387\n"
     ]
    },
    {
     "name": "stderr",
     "output_type": "stream",
     "text": [
      "1it [01:08, 68.72s/it]\n"
     ]
    }
   ],
   "source": [
    "FLM_list=[]\n",
    "MFA_list=[]\n",
    "\n",
    "for FLM_file_path, MFA_file_path in tqdm(zip(FLM_file_path_list[9:10], MFA_file_path_list[9:10])):\n",
    "    #unpack npz file\n",
    "    npz_FLM=np.load(FLM_file_path, allow_pickle=True)\n",
    "    npz_MFA=np.load(MFA_file_path, allow_pickle=True)\n",
    "    \n",
    "    FLM=npz_FLM[\"FLM\"][:, :, 2]\n",
    "    ret=np.nan_to_num(npz_MFA[\"ret_im\"])\n",
    "    angle=np.nan_to_num(npz_MFA[\"angle_im\"])\n",
    "    MFA=np.nan_to_num(npz_MFA[\"MFA_im\"])\n",
    "    sample_info=npz_MFA[\"sample_info\"]\n",
    "    \n",
    "    \n",
    "    #trim image bg beforehand\n",
    "    #delete background as long as possible\n",
    "    delete_line_h = np.where(np.all(ret == 0, axis=0))[0]\n",
    "    delete_line_v = np.where(np.all(ret == 0, axis=1))[0]\n",
    "    \n",
    "    #ret\n",
    "    ret = np.delete(ret, delete_line_h, axis=1)\n",
    "    ret = np.delete(ret, delete_line_v, axis=0)\n",
    "    \n",
    "    #angle\n",
    "    angle = np.delete(angle, delete_line_h, axis=1)\n",
    "    angle = np.delete(angle, delete_line_v, axis=0)\n",
    "    \n",
    "    #MFA\n",
    "    MFA = np.delete(MFA, delete_line_h, axis=1)\n",
    "    MFA = np.delete(MFA, delete_line_v, axis=0)\n",
    "    \n",
    "\n",
    "    #binarization of flm and ret im\n",
    "    threshold = threshold_otsu(ret)\n",
    "    ret_binary=np.where(ret>threshold*0.4, 255, 0)\n",
    "    threshold = threshold_otsu(FLM)\n",
    "    FLM_binary=np.where(FLM>threshold, 255, 0)\n",
    "    \n",
    "    #matching ret and flm im\n",
    "    stitcher=Stitcher()\n",
    "    ret_binary_adj, FLM_binary_adj = image_dimension_adj_center(ret_binary, FLM_binary, const=0, criterion=\"B\")\n",
    "    _, FLM_adj = image_dimension_adj_center(ret_binary, FLM,const=0, criterion=\"B\")\n",
    "    ret_adj, _ = image_dimension_adj_center(ret, FLM, const=0, criterion=\"B\")\n",
    "    angle_adj, _ = image_dimension_adj_center(angle, FLM, const=0, criterion=\"B\")\n",
    "    MFA_adj, _ = image_dimension_adj_center(MFA, FLM, const=0, criterion=\"B\")\n",
    "    \n",
    "    #image matching of ret and flm\n",
    "    _, delete_line_h, delete_line_v, H=stitcher.stitch((np.uint8(ret_binary_adj), np.uint8(FLM_binary_adj)))\n",
    "\n",
    "    #image matching of others under the same condition\n",
    "    FLM_binary_matching=cv2.warpPerspective(np.uint8(FLM_binary_adj), H, (FLM_binary_adj.shape[1], \n",
    "                                                                          FLM_binary_adj.shape[0]), borderValue=255)\n",
    "    FLM_matching=cv2.warpPerspective(FLM_adj, H, (FLM_adj.shape[1], FLM_adj.shape[0]), borderValue=0)\n",
    "    \n",
    "    \n",
    "    #delete background as long as possible\n",
    "    delete_line_h = np.where(np.all(ret_binary_adj == 0, axis=0))[0]\n",
    "    delete_line_v = np.where(np.all(ret_binary_adj == 0, axis=1))[0]\n",
    "    \n",
    "    \n",
    "    #FLM binary\n",
    "    FLM_binary_trim = np.delete(FLM_binary_matching, delete_line_h, axis=1)\n",
    "    FLM_binary_trim = np.delete(FLM_binary_trim, delete_line_v, axis=0)\n",
    "    \n",
    "    #FLM ori\n",
    "    FLM_trim = np.delete(FLM_matching, delete_line_h, axis=1)\n",
    "    FLM_trim = np.delete(FLM_trim, delete_line_v, axis=0)\n",
    "    \n",
    "    #ret\n",
    "    ret_trim = np.delete(ret_adj, delete_line_h, axis=1)\n",
    "    ret_trim = np.delete(ret_trim, delete_line_v, axis=0)\n",
    "    \n",
    "    #angle\n",
    "    angle_trim = np.delete(angle_adj, delete_line_h, axis=1)\n",
    "    angle_trim = np.delete(angle_trim, delete_line_v, axis=0)\n",
    "    \n",
    "    #MFA\n",
    "    MFA_trim = np.delete(MFA_adj, delete_line_h, axis=1)\n",
    "    MFA_trim = np.delete(MFA_trim, delete_line_v, axis=0)\n",
    "    \n",
    "    #result visualization\n",
    "    fig, ax=plt.subplots(2, 2, figsize=(10, 8))\n",
    "    im0=ax[0, 0].imshow(FLM_trim)\n",
    "    pp=fig.colorbar(im0, ax=ax[0, 0])\n",
    "    pp.mappable.set_clim(0, 255)\n",
    "    \n",
    "    im1=ax[0, 1].imshow(ret_trim, cmap=\"gist_ncar\")\n",
    "    pp=fig.colorbar(im1, ax=ax[0, 1])\n",
    "    pp.mappable.set_clim(0, 137)\n",
    "    \n",
    "    im2=ax[1, 0].imshow(angle_trim, cmap=\"jet\")\n",
    "    pp=fig.colorbar(im2, ax=ax[1, 0])\n",
    "    pp.mappable.set_clim(0, 180)\n",
    "    \n",
    "    im3=ax[1, 1].imshow(MFA_trim, cmap=\"gist_ncar\")\n",
    "    pp=fig.colorbar(im3, ax=ax[1, 1])\n",
    "    pp.mappable.set_clim(0, 70)\n",
    "    \n",
    "    plt.tight_layout()\n",
    "    plt.savefig(os.path.join(save_path, str(sample_info)+\".png\"), dpi=600)\n",
    "    plt.close()\n",
    "    \n",
    "    #save result\n",
    "    npz_save_path=os.path.join(npz_path, \"image_registration\", str(sample_info))\n",
    "    if os.path.exists(npz_save_path)==False:\n",
    "        os.makedirs(npz_save_path)\n",
    "\n",
    "    np.savez_compressed(os.path.join(npz_save_path, str(sample_info)+\".npz\"), \n",
    "                       FLM=FLM_trim, FLM_binary=FLM_binary_trim, \n",
    "                       ret=ret_trim, angle=angle_trim, MFA=MFA_trim, \n",
    "                       sample_info=sample_info)\n",
    "    \n",
    "    #save for checking result\n",
    "    FLM_list.append(FLM_trim)\n",
    "    MFA_list.append(MFA_trim)"
   ]
  },
  {
   "cell_type": "code",
   "execution_count": null,
   "metadata": {},
   "outputs": [],
   "source": []
  }
 ],
 "metadata": {
  "kernelspec": {
   "display_name": "YKDL",
   "language": "python",
   "name": "ykdl"
  },
  "language_info": {
   "codemirror_mode": {
    "name": "ipython",
    "version": 3
   },
   "file_extension": ".py",
   "mimetype": "text/x-python",
   "name": "python",
   "nbconvert_exporter": "python",
   "pygments_lexer": "ipython3",
   "version": "3.6.8"
  }
 },
 "nbformat": 4,
 "nbformat_minor": 4
}
